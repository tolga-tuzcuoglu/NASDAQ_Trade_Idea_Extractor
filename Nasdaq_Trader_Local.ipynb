{
 "cells": [
  {
   "cell_type": "markdown",
   "metadata": {},
   "source": [
    "# 🚀 Nasdaq Trader - Local Execution\n",
    "\n",
    "**High-performance local processing with parallel execution and system optimization**\n",
    "\n",
    "## 🎯 Features\n",
    "- **Parallel Video Processing**: Process multiple videos simultaneously\n",
    "- **System Optimization**: Automatic CPU and memory optimization\n",
    "- **GPU Acceleration**: CUDA support for faster processing (if available)\n",
    "- **Smart Caching**: Intelligent cache management for faster repeated processing\n",
    "- **Performance Monitoring**: Real-time system resource monitoring"
   ]
  },
  {
   "cell_type": "markdown",
   "metadata": {},
   "source": [
    "## 🚀 Quick Start\n",
    "\n",
    "### 1. Setup Environment\n",
    "```bash\n",
    "# Install dependencies and optimize system\n",
    "python setup.py\n",
    "```\n",
    "\n",
    "### 2. Run Accelerated Processing\n",
    "```bash\n",
    "# Run with automatic optimization\n",
    "python nasdaq_trader_accelerated.py\n",
    "```\n",
    "\n",
    "### 3. Monitor Performance\n",
    "```bash\n",
    "# Check system performance\n",
    "python acceleration_utils.py\n",
    "```"
   ]
  },
  {
   "cell_type": "code",
   "execution_count": 1,
   "metadata": {},
   "outputs": [
    {
     "name": "stdout",
     "output_type": "stream",
     "text": [
      "🚀 Nasdaq Trader - Local Execution\n",
      "==================================================\n",
      "Python version: 3.12.7 | packaged by Anaconda, Inc. | (main, Oct  4 2024, 13:17:27) [MSC v.1929 64 bit (AMD64)]\n",
      "CPU cores: 16\n",
      "RAM: 27.8 GB\n",
      "Available RAM: 15.7 GB\n"
     ]
    }
   ],
   "source": [
    "# Import required modules\n",
    "import os\n",
    "import sys\n",
    "import time\n",
    "import multiprocessing\n",
    "import psutil\n",
    "from pathlib import Path\n",
    "\n",
    "# Add current directory to path\n",
    "sys.path.append(os.getcwd())\n",
    "\n",
    "print(\"🚀 Nasdaq Trader - Local Execution\")\n",
    "print(\"=\" * 50)\n",
    "print(f\"Python version: {sys.version}\")\n",
    "print(f\"CPU cores: {multiprocessing.cpu_count()}\")\n",
    "print(f\"RAM: {psutil.virtual_memory().total / (1024**3):.1f} GB\")\n",
    "print(f\"Available RAM: {psutil.virtual_memory().available / (1024**3):.1f} GB\")"
   ]
  },
  {
   "cell_type": "markdown",
   "metadata": {},
   "source": [
    "## 🔧 System Optimization\n",
    "\n",
    "The system automatically optimizes based on your hardware:"
   ]
  },
  {
   "cell_type": "code",
   "execution_count": 2,
   "metadata": {},
   "outputs": [
    {
     "name": "stdout",
     "output_type": "stream",
     "text": [
      "🖥️  System Info:\n",
      "   CPU Cores: 16\n",
      "   Total RAM: 27.8 GB\n",
      "   Available RAM: 15.9 GB\n",
      "🎯 Optimal Settings:\n",
      "   Parallel videos: 4\n",
      "   Max workers: 16\n",
      "   Batch size: 3\n",
      "   Quality mode: balanced\n",
      "   GPU available: False\n",
      "🔧 Optimizing system for faster processing...\n",
      "✅ Process priority set to high\n",
      "✅ System optimization complete\n"
     ]
    }
   ],
   "source": [
    "# Check system performance and optimization\n",
    "from acceleration_utils import LocalAccelerator\n",
    "\n",
    "# Create accelerator instance\n",
    "accelerator = LocalAccelerator()\n",
    "\n",
    "# Get optimal settings\n",
    "settings = accelerator.get_optimal_settings()\n",
    "print(f\"🎯 Optimal Settings:\")\n",
    "print(f\"   Parallel videos: {settings['parallel_videos']}\")\n",
    "print(f\"   Max workers: {settings['max_workers']}\")\n",
    "print(f\"   Batch size: {settings['batch_size']}\")\n",
    "print(f\"   Quality mode: {settings['quality_mode']}\")\n",
    "print(f\"   GPU available: {settings['use_gpu']}\")\n",
    "\n",
    "# Optimize system\n",
    "accelerator.optimize_system()"
   ]
  },
  {
   "cell_type": "markdown",
   "metadata": {},
   "source": [
    "## 📹 Video Processing\n",
    "\n",
    "Process videos with parallel execution for maximum performance:"
   ]
  },
  {
   "cell_type": "code",
   "execution_count": 3,
   "metadata": {},
   "outputs": [
    {
     "name": "stdout",
     "output_type": "stream",
     "text": [
      "📹 Found 1 videos to process:\n",
      "   1. https://www.youtube.com/watch?v=K8TFnwpDoAE\n",
      "\n",
      "🚀 Ready to process 1 videos with parallel execution!\n"
     ]
    }
   ],
   "source": [
    "# Load video URLs\n",
    "video_urls = []\n",
    "if os.path.exists('video_list.txt'):\n",
    "    with open('video_list.txt', 'r', encoding='utf-8') as f:\n",
    "        video_urls = [line.strip() for line in f if line.strip() and not line.startswith('#')]\n",
    "\n",
    "print(f\"📹 Found {len(video_urls)} videos to process:\")\n",
    "for i, url in enumerate(video_urls, 1):\n",
    "    print(f\"   {i}. {url}\")\n",
    "\n",
    "if not video_urls:\n",
    "    print(\"⚠️  No videos found in video_list.txt\")\n",
    "    print(\"   Please add YouTube URLs to video_list.txt\")\n",
    "else:\n",
    "    print(f\"\\n🚀 Ready to process {len(video_urls)} videos with parallel execution!\")"
   ]
  },
  {
   "cell_type": "markdown",
   "metadata": {},
   "source": [
    "## 🚀 ACTUAL VIDEO PROCESSING\n",
    "\n",
    "**This cell will actually process videos and generate reports!**"
   ]
  },
  {
   "cell_type": "code",
   "execution_count": 4,
   "metadata": {},
   "outputs": [
    {
     "name": "stdout",
     "output_type": "stream",
     "text": [
      "🚀 Starting ACTUAL video processing...\n",
      "   This will download videos, transcribe, and generate reports!\n"
     ]
    },
    {
     "name": "stderr",
     "output_type": "stream",
     "text": [
      "2025-10-11 21:00:29,869 | INFO | Starting Accelerated Nasdaq Trader Pipeline\n",
      "2025-10-11 21:00:29,871 | INFO | System optimized for high performance\n",
      "2025-10-11 21:00:29,872 | INFO | Found 1 videos to process\n",
      "2025-10-11 21:00:29,874 | INFO | Processing: https://www.youtube.com/watch?v=K8TFnwpDoAE\n"
     ]
    },
    {
     "name": "stdout",
     "output_type": "stream",
     "text": [
      "🚀 Accelerated Nasdaq Trader Initialized\n",
      "   System: 16 cores, 27.8GB RAM\n",
      "   Optimal: 4 parallel videos\n",
      "\n",
      "🎬 Processing videos...\n",
      "                             \r"
     ]
    },
    {
     "name": "stderr",
     "output_type": "stream",
     "text": [
      "2025-10-11 21:06:05,905 | INFO | Saving 1 successful results...\n",
      "2025-10-11 21:06:05,910 | INFO | Saved report for https://www.youtube.com/watch?v=K8TFnwpDoAE\n",
      "2025-10-11 21:06:05,911 | INFO | Accelerated pipeline complete!\n"
     ]
    },
    {
     "name": "stdout",
     "output_type": "stream",
     "text": [
      "Report saved: summary/report_K8TFnwpDoAE_20251011_210605.txt\n",
      "\n",
      "📊 Processing Results:\n",
      "   Videos processed: 1\n",
      "   Successful: 1\n",
      "   Failed: 0\n",
      "   ✅ https://www.youtube.com/watch?v=K8TFnwpDoAE - 336.03s\n",
      "\n",
      "📁 Check the following directories for generated files:\n",
      "   - summary/ (reports)\n",
      "   - video_cache/ (cached files)\n",
      "   - logs/ (processing logs)\n"
     ]
    }
   ],
   "source": [
    "# ACTUAL VIDEO PROCESSING - This will generate files!\n",
    "if video_urls:\n",
    "    print(\"🚀 Starting ACTUAL video processing...\")\n",
    "    print(\"   This will download videos, transcribe, and generate reports!\")\n",
    "    \n",
    "    # Import the actual processing function\n",
    "    from nasdaq_trader_accelerated import AcceleratedNasdaqTrader\n",
    "    \n",
    "    # Create trader instance\n",
    "    trader = AcceleratedNasdaqTrader()\n",
    "    \n",
    "    # Run the actual processing pipeline\n",
    "    print(\"\\n🎬 Processing videos...\")\n",
    "    results = trader.run_accelerated_pipeline()\n",
    "    \n",
    "    if results:\n",
    "        successful = sum(1 for r in results if r['success'])\n",
    "        print(f\"\\n📊 Processing Results:\")\n",
    "        print(f\"   Videos processed: {len(results)}\")\n",
    "        print(f\"   Successful: {successful}\")\n",
    "        print(f\"   Failed: {len(results) - successful}\")\n",
    "        \n",
    "        # Show individual results\n",
    "        for result in results:\n",
    "            if result['success']:\n",
    "                print(f\"   ✅ {result['url']} - {result['processing_time']:.2f}s\")\n",
    "            else:\n",
    "                print(f\"   ❌ {result['url']} - {result['error']}\")\n",
    "        \n",
    "        print(\"\\n📁 Check the following directories for generated files:\")\n",
    "        print(\"   - summary/ (reports)\")\n",
    "        print(\"   - video_cache/ (cached files)\")\n",
    "        print(\"   - logs/ (processing logs)\")\n",
    "    else:\n",
    "        print(\"❌ No results generated\")\n",
    "else:\n",
    "    print(\"⚠️  No videos to process. Please add URLs to video_list.txt\")"
   ]
  },
  {
   "cell_type": "markdown",
   "metadata": {},
   "source": [
    "## 📊 Performance Monitoring\n",
    "\n",
    "Monitor system performance during processing:"
   ]
  },
  {
   "cell_type": "code",
   "execution_count": 5,
   "metadata": {},
   "outputs": [
    {
     "name": "stdout",
     "output_type": "stream",
     "text": [
      "📊 System Performance Monitor:\n",
      "   CPU usage: 53.7%\n",
      "   Memory usage: 53.6%\n",
      "   Available memory: 12.9 GB\n",
      "   GPU: Not available\n",
      "\n",
      "✅ System monitoring complete\n"
     ]
    }
   ],
   "source": [
    "# Monitor system performance\n",
    "import time\n",
    "\n",
    "print(\"📊 System Performance Monitor:\")\n",
    "print(\"   CPU usage: {:.1f}%\".format(psutil.cpu_percent(interval=1)))\n",
    "print(\"   Memory usage: {:.1f}%\".format(psutil.virtual_memory().percent))\n",
    "print(\"   Available memory: {:.1f} GB\".format(psutil.virtual_memory().available / (1024**3)))\n",
    "\n",
    "# Check if GPU is available\n",
    "try:\n",
    "    import torch\n",
    "    if torch.cuda.is_available():\n",
    "        print(f\"   GPU: {torch.cuda.get_device_name(0)}\")\n",
    "        print(f\"   GPU memory: {torch.cuda.get_device_properties(0).total_memory / (1024**3):.1f} GB\")\n",
    "    else:\n",
    "        print(\"   GPU: Not available\")\n",
    "except ImportError:\n",
    "    print(\"   GPU: PyTorch not installed\")\n",
    "\n",
    "print(\"\\n✅ System monitoring complete\")"
   ]
  },
  {
   "cell_type": "markdown",
   "metadata": {},
   "source": [
    "## 🎯 Next Steps\n",
    "\n",
    "1. **Run Setup**: `python setup.py`\n",
    "2. **Test Performance**: `python acceleration_utils.py`\n",
    "3. **Process Videos**: `python nasdaq_trader_accelerated.py`\n",
    "4. **Monitor Results**: Check `reports/` directory\n",
    "\n",
    "## 🔧 Advanced Usage\n",
    "\n",
    "For custom optimization, edit `config.yaml`:\n",
    "\n",
    "```yaml\n",
    "ACCELERATION:\n",
    "  parallel_videos: 4\n",
    "  max_workers: 8\n",
    "  use_gpu: true\n",
    "  optimize_memory: false\n",
    "```\n",
    "\n",
    "## 📞 Support\n",
    "\n",
    "For issues or questions:\n",
    "1. Check system requirements\n",
    "2. Run `python setup.py` for diagnostics\n",
    "3. Monitor system resources during processing\n",
    "4. Check logs in `accelerated_trader.log`\n",
    "\n",
    "---\n",
    "\n",
    "**🚀 Ready for high-performance trading analysis!**"
   ]
  }
 ],
 "metadata": {
  "kernelspec": {
   "display_name": "Nasdaq Trader",
   "language": "python",
   "name": "nasdaq_trader"
  },
  "language_info": {
   "codemirror_mode": {
    "name": "ipython",
    "version": 3
   },
   "file_extension": ".py",
   "mimetype": "text/x-python",
   "name": "python",
   "nbconvert_exporter": "python",
   "pygments_lexer": "ipython3",
   "version": "3.12.7"
  }
 },
 "nbformat": 4,
 "nbformat_minor": 4
}
