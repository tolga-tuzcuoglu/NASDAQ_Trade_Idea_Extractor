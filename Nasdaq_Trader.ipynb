{
 "cells": [
  {
   "cell_type": "markdown",
   "metadata": {},
   "source": [
    "# 🚀 Nasdaq Trader - Production Pipeline\n",
    "\n",
    "**Professional Trading Analysis from YouTube Videos**\n",
    "\n",
    "## 🎯 Overview\n",
    "This production-ready notebook provides a clean, professional interface for analyzing Turkish trading videos and generating actionable Nasdaq trading reports.\n",
    "\n",
    "## 📋 Prerequisites\n",
    "- Python 3.8+ environment\n",
    "- Required dependencies installed (`pip install -r requirements.txt`)\n",
    "- `GEMINI_API_KEY` environment variable set\n",
    "- Video URLs in `video_list.txt`\n",
    "\n",
    "## 🚀 Quick Start\n",
    "1. **Setup**: Run the setup cell below\n",
    "2. **Configure**: Add video URLs to `video_list.txt`\n",
    "3. **Execute**: Run the processing pipeline\n",
    "4. **Review**: Check generated reports in `summary/` folder\n"
   ]
  },
  {
   "cell_type": "code",
   "execution_count": null,
   "metadata": {},
   "outputs": [
    {
     "name": "stdout",
     "output_type": "stream",
     "text": [
      "🔧 Production Environment Setup\n",
      "==================================================\n",
      "Python version: 3.12.7 | packaged by Anaconda, Inc. | (main, Oct  4 2024, 13:17:27) [MSC v.1929 64 bit (AMD64)]\n",
      "❌ GEMINI_API_KEY not found - please set this environment variable\n",
      "✅ Found 1 videos in video_list.txt\n",
      "\n",
      "🚀 Environment ready for production processing!\n"
     ]
    }
   ],
   "source": [
    "# Production Setup and Configuration\n",
    "import os\n",
    "import sys\n",
    "import warnings\n",
    "from pathlib import Path\n",
    "from dotenv import load_dotenv\n",
    "\n",
    "# Load environment variables from .env file\n",
    "load_dotenv()\n",
    "\n",
    "# Suppress warnings for cleaner output\n",
    "warnings.filterwarnings(\"ignore\")\n",
    "\n",
    "# Add current directory to path\n",
    "sys.path.append(os.getcwd())\n",
    "\n",
    "# Check environment\n",
    "print(\"🔧 Production Environment Setup\")\n",
    "print(\"=\" * 50)\n",
    "\n",
    "# Check Python version\n",
    "print(f\"Python version: {sys.version}\")\n",
    "\n",
    "# Check required environment variables\n",
    "gemini_key = os.getenv('GEMINI_API_KEY')\n",
    "if gemini_key:\n",
    "    print(\"✅ GEMINI_API_KEY found\")\n",
    "else:\n",
    "    print(\"❌ GEMINI_API_KEY not found - please set this environment variable\")\n",
    "\n",
    "# Check video list\n",
    "if os.path.exists('video_list.txt'):\n",
    "    with open('video_list.txt', 'r', encoding='utf-8') as f:\n",
    "        video_urls = [line.strip() for line in f if line.strip() and not line.startswith('#')]\n",
    "    print(f\"✅ Found {len(video_urls)} videos in video_list.txt\")\n",
    "else:\n",
    "    print(\"⚠️  video_list.txt not found - please create it with video URLs\")\n",
    "\n",
    "print(\"\\n🚀 Environment ready for production processing!\")\n"
   ]
  },
  {
   "cell_type": "markdown",
   "metadata": {},
   "source": [
    "## 🎬 Video Processing Pipeline\n",
    "\n",
    "**Execute the complete trading analysis pipeline**\n"
   ]
  },
  {
   "cell_type": "code",
   "execution_count": null,
   "metadata": {},
   "outputs": [
    {
     "name": "stderr",
     "output_type": "stream",
     "text": [
      "2025-10-12 07:12:19,517 | INFO | System optimized for high performance\n",
      "2025-10-12 07:12:19,519 | INFO | Processing: https://www.youtube.com/watch?v=K8TFnwpDoAE\n"
     ]
    },
    {
     "name": "stdout",
     "output_type": "stream",
     "text": [
      "🚀 Starting Production Video Processing\n",
      "==================================================\n",
      "Found 1 videos to process:\n",
      "   1. https://www.youtube.com/watch?v=K8TFnwpDoAE\n",
      "\n",
      "Starting processing for 1 videos...\n",
      "\n",
      "--- Video 1/1 ---\n",
      "                                                           \r"
     ]
    },
    {
     "name": "stderr",
     "output_type": "stream",
     "text": [
      "2025-10-12 07:12:30,871 | INFO | Transcribing audio: video_cache/K8TFnwpDoAE_20251012.m4a\n"
     ]
    }
   ],
   "source": [
    "# Production Video Processing - MAXIMUM PERFORMANCE VERSION\n",
    "from nasdaq_trader_accelerated import AcceleratedNasdaqTrader\n",
    "\n",
    "print(\"🚀 Starting MAXIMUM PERFORMANCE Video Processing\")\n",
    "print(\"=\" * 50)\n",
    "\n",
    "# Initialize the accelerated trader (parallel processing, system optimization)\n",
    "trader = AcceleratedNasdaqTrader()\n",
    "\n",
    "# Run the accelerated pipeline\n",
    "results = trader.run_accelerated_pipeline()\n",
    "\n",
    "# Display results\n",
    "if results:\n",
    "    successful = sum(1 for r in results if r['success'])\n",
    "    total_time = sum(r['processing_time'] for r in results)\n",
    "    \n",
    "    print(f\"\\n📊 Processing Results:\")\n",
    "    print(f\"   Videos processed: {len(results)}\")\n",
    "    print(f\"   Successful: {successful}\")\n",
    "    print(f\"   Failed: {len(results) - successful}\")\n",
    "    print(f\"   Total time: {total_time:.2f}s\")\n",
    "    print(f\"   Average per video: {total_time/len(results):.2f}s\")\n",
    "    \n",
    "    # Show individual results\n",
    "    for result in results:\n",
    "        if result['success']:\n",
    "            print(f\"   ✅ {result['url']} - {result['processing_time']:.2f}s\")\n",
    "        else:\n",
    "            print(f\"   ❌ {result['url']} - {result['error']}\")\n",
    "    \n",
    "    print(f\"\\n📁 Generated files:\")\n",
    "    print(f\"   - Reports: summary/ folder\")\n",
    "    print(f\"   - Audio cache: video_cache/ folder\")\n",
    "    print(f\"   - Transcripts: transcript_cache/ folder\")\n",
    "else:\n",
    "    print(\"❌ No results generated\")\n"
   ]
  },
  {
   "cell_type": "markdown",
   "metadata": {},
   "source": [
    "## 📊 Report Analysis\n",
    "\n",
    "**Review and analyze generated trading reports**\n"
   ]
  },
  {
   "cell_type": "code",
   "execution_count": null,
   "metadata": {},
   "outputs": [],
   "source": [
    "# Report Analysis and Review\n",
    "import json\n",
    "import os\n",
    "from pathlib import Path\n",
    "\n",
    "print(\"📊 Trading Report Analysis\")\n",
    "print(\"=\" * 50)\n",
    "\n",
    "# List all generated reports\n",
    "summary_dir = Path(\"summary\")\n",
    "if summary_dir.exists():\n",
    "    report_files = list(summary_dir.glob(\"*.txt\"))\n",
    "    json_files = list(summary_dir.glob(\"*.json\"))\n",
    "    \n",
    "    print(f\"📁 Found {len(report_files)} text reports and {len(json_files)} JSON reports\")\n",
    "    \n",
    "    # Display recent reports\n",
    "    if report_files:\n",
    "        latest_report = max(report_files, key=os.path.getctime)\n",
    "        print(f\"\\n📄 Latest Report: {latest_report.name}\")\n",
    "        \n",
    "        # Show first few lines of the report\n",
    "        with open(latest_report, 'r', encoding='utf-8') as f:\n",
    "            lines = f.readlines()[:20]  # First 20 lines\n",
    "            print(\"\\n📋 Report Preview:\")\n",
    "            print(\"-\" * 40)\n",
    "            for line in lines:\n",
    "                print(line.rstrip())\n",
    "            if len(f.readlines()) > 20:\n",
    "                print(\"... (report continues)\")\n",
    "    \n",
    "    # Show JSON metadata if available\n",
    "    if json_files:\n",
    "        latest_json = max(json_files, key=os.path.getctime)\n",
    "        print(f\"\\n📊 JSON Metadata: {latest_json.name}\")\n",
    "        \n",
    "        with open(latest_json, 'r', encoding='utf-8') as f:\n",
    "            data = json.load(f)\n",
    "            print(f\"   Report ID: {data.get('metadata', {}).get('report_id', 'N/A')}\")\n",
    "            print(f\"   Generated: {data.get('metadata', {}).get('generated_timestamp', 'N/A')}\")\n",
    "            print(f\"   Video ID: {data.get('metadata', {}).get('video_id', 'N/A')}\")\n",
    "else:\n",
    "    print(\"⚠️  No reports found in summary/ folder\")\n",
    "\n",
    "print(\"\\n✅ Report analysis complete!\")\n"
   ]
  },
  {
   "cell_type": "markdown",
   "metadata": {},
   "source": [
    "## 🎯 Production Best Practices\n",
    "\n",
    "### ✅ Quality Assurance\n",
    "- **Source Validation**: All information comes from video transcripts only\n",
    "- **Ticker Verification**: All ticker symbols are validated\n",
    "- **Price Accuracy**: Only prices explicitly mentioned in videos\n",
    "- **Anti-Hallucination**: No external data or assumptions\n",
    "\n",
    "### 📋 Execution Checklist\n",
    "- [ ] Verify `GEMINI_API_KEY` is set\n",
    "- [ ] Add video URLs to `video_list.txt`\n",
    "- [ ] Run processing pipeline\n",
    "- [ ] Review generated reports\n",
    "- [ ] Validate ticker symbols before trading\n",
    "- [ ] Use proper risk management\n",
    "\n",
    "### ⚠️ Important Disclaimers\n",
    "- This analysis is based solely on video content\n",
    "- All tickers and prices should be verified before trading\n",
    "- Past performance does not guarantee future results\n",
    "- Always use proper risk management\n",
    "\n",
    "---\n",
    "\n",
    "**🚀 Ready for professional trading analysis!**\n"
   ]
  }
 ],
 "metadata": {
  "kernelspec": {
   "display_name": "Nasdaq Trader",
   "language": "python",
   "name": "nasdaq_trader"
  },
  "language_info": {
   "codemirror_mode": {
    "name": "ipython",
    "version": 3
   },
   "file_extension": ".py",
   "mimetype": "text/x-python",
   "name": "python",
   "nbconvert_exporter": "python",
   "pygments_lexer": "ipython3",
   "version": "3.12.7"
  }
 },
 "nbformat": 4,
 "nbformat_minor": 4
}
